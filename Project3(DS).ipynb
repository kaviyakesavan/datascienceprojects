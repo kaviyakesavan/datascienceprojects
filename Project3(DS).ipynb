{
  "nbformat": 4,
  "nbformat_minor": 0,
  "metadata": {
    "colab": {
      "provenance": [],
      "authorship_tag": "ABX9TyOLh8/yxTQ13w/R/MKCIDl/",
      "include_colab_link": true
    },
    "kernelspec": {
      "name": "python3",
      "display_name": "Python 3"
    },
    "language_info": {
      "name": "python"
    }
  },
  "cells": [
    {
      "cell_type": "markdown",
      "metadata": {
        "id": "view-in-github",
        "colab_type": "text"
      },
      "source": [
        "<a href=\"https://colab.research.google.com/github/kaviyakesavan/datascienceprojects/blob/main/Project3(DS).ipynb\" target=\"_parent\"><img src=\"https://colab.research.google.com/assets/colab-badge.svg\" alt=\"Open In Colab\"/></a>"
      ]
    },
    {
      "cell_type": "code",
      "execution_count": null,
      "metadata": {
        "colab": {
          "base_uri": "https://localhost:8080/"
        },
        "id": "MC1fYpHIv_9v",
        "outputId": "dac3496a-0369-499f-c3d9-007ae7996ac7"
      },
      "outputs": [
        {
          "output_type": "execute_result",
          "data": {
            "text/plain": [
              "Index(['Movie', 'Release Date', 'Release Month', 'Release Day', 'Release Year',\n",
              "       'Ownership', 'Domestic Box Office', 'Inflation Adjusted Domestic',\n",
              "       'International Box Office', 'Inflation Adjusted International',\n",
              "       'Worldwide Box Office', 'Inflation Adjusted Worldwide',\n",
              "       'Opening Weekend', 'Budget', 'IMDb Score', 'Meta Score', 'Tomatometer',\n",
              "       'Rotten Tomato Audience Score', 'Run Time In Minutes', 'Phase',\n",
              "       'Director'],\n",
              "      dtype='object')"
            ]
          },
          "metadata": {},
          "execution_count": 1
        }
      ],
      "source": [
        "# @title Project 3\n",
        "import pandas as pd\n",
        "df =pd.read_csv(\"/content/marvel_box_office.csv\")\n",
        "df\n",
        "df.columns"
      ]
    },
    {
      "cell_type": "code",
      "source": [
        "df"
      ],
      "metadata": {
        "colab": {
          "base_uri": "https://localhost:8080/",
          "height": 721
        },
        "id": "c5YHFzs4xRET",
        "outputId": "48544fda-8513-4521-f75b-5bf78646c75e"
      },
      "execution_count": null,
      "outputs": [
        {
          "output_type": "execute_result",
          "data": {
            "text/plain": [
              "                                 Movie Release Date Release Month  \\\n",
              "0                             Iron Man     5/2/2008           May   \n",
              "1                  The Incredible Hulk    6/13/2008          June   \n",
              "2                           Iron Man 2     5/7/2010           May   \n",
              "3                                 Thor     5/6/2011           May   \n",
              "4   Captain America: The First Avenger    7/22/2011          July   \n",
              "..                                 ...          ...           ...   \n",
              "61                   Punisher: Warzone    12/5/2008      December   \n",
              "62                               Blade    8/21/1998        August   \n",
              "63                            Blade II    3/22/2002         March   \n",
              "64                      Blade: Trinity    12/8/2004      December   \n",
              "65                             Morbius     4/1/2022         April   \n",
              "\n",
              "    Release Day  Release Year        Ownership  Domestic Box Office  \\\n",
              "0             2          2008   Marvel Studios            318604126   \n",
              "1            13          2008   Marvel Studios            134806913   \n",
              "2             7          2010   Marvel Studios            312433331   \n",
              "3             6          2011   Marvel Studios            181030624   \n",
              "4            22          2011   Marvel Studios            176654505   \n",
              "..          ...           ...              ...                  ...   \n",
              "61            5          2008  Lionsgate Films              8050977   \n",
              "62           21          1998  New Line Cinema             70141876   \n",
              "63           22          2002  New Line Cinema             81676888   \n",
              "64            8          2004  New Line Cinema             52397389   \n",
              "65            1          2022    Sony Pictures             73865530   \n",
              "\n",
              "    Inflation Adjusted Domestic  International Box Office  \\\n",
              "0                     467231126                 266567421   \n",
              "1                     197704288                 130766946   \n",
              "2                     416973763                 308723058   \n",
              "3                     240384926                 268295994   \n",
              "4                     234574020                 193915271   \n",
              "..                          ...                       ...   \n",
              "61                     11807352                   2106557   \n",
              "62                    157482710                  61095812   \n",
              "63                    148030572                  72661713   \n",
              "64                     88619322                  78955776   \n",
              "65                     73865530                  88893907   \n",
              "\n",
              "    Inflation Adjusted International  ...  Inflation Adjusted Worldwide  \\\n",
              "0                       3.909196e+08  ...                  8.581507e+08   \n",
              "1                       1.917794e+08  ...                  3.894837e+08   \n",
              "2                       4.120220e+08  ...                  8.289958e+08   \n",
              "3                       3.562619e+08  ...                  5.966468e+08   \n",
              "4                       2.574941e+08  ...                  4.920681e+08   \n",
              "..                               ...  ...                           ...   \n",
              "61                      3.089421e+06  ...                  1.489677e+07   \n",
              "62                      1.371725e+08  ...                  2.946552e+08   \n",
              "63                      1.316915e+08  ...                  2.797221e+08   \n",
              "64                      1.335373e+08  ...                  2.221567e+08   \n",
              "65                      8.889391e+07  ...                  1.627594e+08   \n",
              "\n",
              "    Opening Weekend     Budget  IMDb Score  Meta Score  Tomatometer  \\\n",
              "0         102118668  186000000         7.9        79.0           94   \n",
              "1          55414050  137500000         6.6        61.0           67   \n",
              "2         128122480  170000000         6.9        57.0           72   \n",
              "3          65723338  150000000         7.0        57.0           77   \n",
              "4          65058524  140000000         6.9        66.0           80   \n",
              "..              ...        ...         ...         ...          ...   \n",
              "61          4271451   35000000         5.9        30.0           29   \n",
              "62         17073856   45000000         7.1        47.0           58   \n",
              "63         32528016   54000000         6.7        52.0           57   \n",
              "64         16061271   65000000         5.8        38.0           24   \n",
              "65         39005895   75000000         5.2        35.0           15   \n",
              "\n",
              "    Rotten Tomato Audience Score  Run Time In Minutes  Phase  \\\n",
              "0                             91                  126    One   \n",
              "1                             69                  112    One   \n",
              "2                             71                  124    One   \n",
              "3                             76                  115    One   \n",
              "4                             75                  124    One   \n",
              "..                           ...                  ...    ...   \n",
              "61                            42                  103    NaN   \n",
              "62                            78                  120    NaN   \n",
              "63                            68                  117    NaN   \n",
              "64                            58                  113    NaN   \n",
              "65                            71                  104    NaN   \n",
              "\n",
              "              Director  \n",
              "0          Jon Favreau  \n",
              "1      Louis Leterrier  \n",
              "2          Jon Favreau  \n",
              "3       Kenneth Brangh  \n",
              "4         Joe Johnston  \n",
              "..                 ...  \n",
              "61      Lexi Alexander  \n",
              "62  Stephen Norrington  \n",
              "63  Guillermo del Toro  \n",
              "64      David S. Goyer  \n",
              "65     Daniel Espinosa  \n",
              "\n",
              "[66 rows x 21 columns]"
            ],
            "text/html": [
              "\n",
              "  <div id=\"df-0a781ef5-a4a7-4024-868b-05b2a376ffa9\" class=\"colab-df-container\">\n",
              "    <div>\n",
              "<style scoped>\n",
              "    .dataframe tbody tr th:only-of-type {\n",
              "        vertical-align: middle;\n",
              "    }\n",
              "\n",
              "    .dataframe tbody tr th {\n",
              "        vertical-align: top;\n",
              "    }\n",
              "\n",
              "    .dataframe thead th {\n",
              "        text-align: right;\n",
              "    }\n",
              "</style>\n",
              "<table border=\"1\" class=\"dataframe\">\n",
              "  <thead>\n",
              "    <tr style=\"text-align: right;\">\n",
              "      <th></th>\n",
              "      <th>Movie</th>\n",
              "      <th>Release Date</th>\n",
              "      <th>Release Month</th>\n",
              "      <th>Release Day</th>\n",
              "      <th>Release Year</th>\n",
              "      <th>Ownership</th>\n",
              "      <th>Domestic Box Office</th>\n",
              "      <th>Inflation Adjusted Domestic</th>\n",
              "      <th>International Box Office</th>\n",
              "      <th>Inflation Adjusted International</th>\n",
              "      <th>...</th>\n",
              "      <th>Inflation Adjusted Worldwide</th>\n",
              "      <th>Opening Weekend</th>\n",
              "      <th>Budget</th>\n",
              "      <th>IMDb Score</th>\n",
              "      <th>Meta Score</th>\n",
              "      <th>Tomatometer</th>\n",
              "      <th>Rotten Tomato Audience Score</th>\n",
              "      <th>Run Time In Minutes</th>\n",
              "      <th>Phase</th>\n",
              "      <th>Director</th>\n",
              "    </tr>\n",
              "  </thead>\n",
              "  <tbody>\n",
              "    <tr>\n",
              "      <th>0</th>\n",
              "      <td>Iron Man</td>\n",
              "      <td>5/2/2008</td>\n",
              "      <td>May</td>\n",
              "      <td>2</td>\n",
              "      <td>2008</td>\n",
              "      <td>Marvel Studios</td>\n",
              "      <td>318604126</td>\n",
              "      <td>467231126</td>\n",
              "      <td>266567421</td>\n",
              "      <td>3.909196e+08</td>\n",
              "      <td>...</td>\n",
              "      <td>8.581507e+08</td>\n",
              "      <td>102118668</td>\n",
              "      <td>186000000</td>\n",
              "      <td>7.9</td>\n",
              "      <td>79.0</td>\n",
              "      <td>94</td>\n",
              "      <td>91</td>\n",
              "      <td>126</td>\n",
              "      <td>One</td>\n",
              "      <td>Jon Favreau</td>\n",
              "    </tr>\n",
              "    <tr>\n",
              "      <th>1</th>\n",
              "      <td>The Incredible Hulk</td>\n",
              "      <td>6/13/2008</td>\n",
              "      <td>June</td>\n",
              "      <td>13</td>\n",
              "      <td>2008</td>\n",
              "      <td>Marvel Studios</td>\n",
              "      <td>134806913</td>\n",
              "      <td>197704288</td>\n",
              "      <td>130766946</td>\n",
              "      <td>1.917794e+08</td>\n",
              "      <td>...</td>\n",
              "      <td>3.894837e+08</td>\n",
              "      <td>55414050</td>\n",
              "      <td>137500000</td>\n",
              "      <td>6.6</td>\n",
              "      <td>61.0</td>\n",
              "      <td>67</td>\n",
              "      <td>69</td>\n",
              "      <td>112</td>\n",
              "      <td>One</td>\n",
              "      <td>Louis Leterrier</td>\n",
              "    </tr>\n",
              "    <tr>\n",
              "      <th>2</th>\n",
              "      <td>Iron Man 2</td>\n",
              "      <td>5/7/2010</td>\n",
              "      <td>May</td>\n",
              "      <td>7</td>\n",
              "      <td>2010</td>\n",
              "      <td>Marvel Studios</td>\n",
              "      <td>312433331</td>\n",
              "      <td>416973763</td>\n",
              "      <td>308723058</td>\n",
              "      <td>4.120220e+08</td>\n",
              "      <td>...</td>\n",
              "      <td>8.289958e+08</td>\n",
              "      <td>128122480</td>\n",
              "      <td>170000000</td>\n",
              "      <td>6.9</td>\n",
              "      <td>57.0</td>\n",
              "      <td>72</td>\n",
              "      <td>71</td>\n",
              "      <td>124</td>\n",
              "      <td>One</td>\n",
              "      <td>Jon Favreau</td>\n",
              "    </tr>\n",
              "    <tr>\n",
              "      <th>3</th>\n",
              "      <td>Thor</td>\n",
              "      <td>5/6/2011</td>\n",
              "      <td>May</td>\n",
              "      <td>6</td>\n",
              "      <td>2011</td>\n",
              "      <td>Marvel Studios</td>\n",
              "      <td>181030624</td>\n",
              "      <td>240384926</td>\n",
              "      <td>268295994</td>\n",
              "      <td>3.562619e+08</td>\n",
              "      <td>...</td>\n",
              "      <td>5.966468e+08</td>\n",
              "      <td>65723338</td>\n",
              "      <td>150000000</td>\n",
              "      <td>7.0</td>\n",
              "      <td>57.0</td>\n",
              "      <td>77</td>\n",
              "      <td>76</td>\n",
              "      <td>115</td>\n",
              "      <td>One</td>\n",
              "      <td>Kenneth Brangh</td>\n",
              "    </tr>\n",
              "    <tr>\n",
              "      <th>4</th>\n",
              "      <td>Captain America: The First Avenger</td>\n",
              "      <td>7/22/2011</td>\n",
              "      <td>July</td>\n",
              "      <td>22</td>\n",
              "      <td>2011</td>\n",
              "      <td>Marvel Studios</td>\n",
              "      <td>176654505</td>\n",
              "      <td>234574020</td>\n",
              "      <td>193915271</td>\n",
              "      <td>2.574941e+08</td>\n",
              "      <td>...</td>\n",
              "      <td>4.920681e+08</td>\n",
              "      <td>65058524</td>\n",
              "      <td>140000000</td>\n",
              "      <td>6.9</td>\n",
              "      <td>66.0</td>\n",
              "      <td>80</td>\n",
              "      <td>75</td>\n",
              "      <td>124</td>\n",
              "      <td>One</td>\n",
              "      <td>Joe Johnston</td>\n",
              "    </tr>\n",
              "    <tr>\n",
              "      <th>...</th>\n",
              "      <td>...</td>\n",
              "      <td>...</td>\n",
              "      <td>...</td>\n",
              "      <td>...</td>\n",
              "      <td>...</td>\n",
              "      <td>...</td>\n",
              "      <td>...</td>\n",
              "      <td>...</td>\n",
              "      <td>...</td>\n",
              "      <td>...</td>\n",
              "      <td>...</td>\n",
              "      <td>...</td>\n",
              "      <td>...</td>\n",
              "      <td>...</td>\n",
              "      <td>...</td>\n",
              "      <td>...</td>\n",
              "      <td>...</td>\n",
              "      <td>...</td>\n",
              "      <td>...</td>\n",
              "      <td>...</td>\n",
              "      <td>...</td>\n",
              "    </tr>\n",
              "    <tr>\n",
              "      <th>61</th>\n",
              "      <td>Punisher: Warzone</td>\n",
              "      <td>12/5/2008</td>\n",
              "      <td>December</td>\n",
              "      <td>5</td>\n",
              "      <td>2008</td>\n",
              "      <td>Lionsgate Films</td>\n",
              "      <td>8050977</td>\n",
              "      <td>11807352</td>\n",
              "      <td>2106557</td>\n",
              "      <td>3.089421e+06</td>\n",
              "      <td>...</td>\n",
              "      <td>1.489677e+07</td>\n",
              "      <td>4271451</td>\n",
              "      <td>35000000</td>\n",
              "      <td>5.9</td>\n",
              "      <td>30.0</td>\n",
              "      <td>29</td>\n",
              "      <td>42</td>\n",
              "      <td>103</td>\n",
              "      <td>NaN</td>\n",
              "      <td>Lexi Alexander</td>\n",
              "    </tr>\n",
              "    <tr>\n",
              "      <th>62</th>\n",
              "      <td>Blade</td>\n",
              "      <td>8/21/1998</td>\n",
              "      <td>August</td>\n",
              "      <td>21</td>\n",
              "      <td>1998</td>\n",
              "      <td>New Line Cinema</td>\n",
              "      <td>70141876</td>\n",
              "      <td>157482710</td>\n",
              "      <td>61095812</td>\n",
              "      <td>1.371725e+08</td>\n",
              "      <td>...</td>\n",
              "      <td>2.946552e+08</td>\n",
              "      <td>17073856</td>\n",
              "      <td>45000000</td>\n",
              "      <td>7.1</td>\n",
              "      <td>47.0</td>\n",
              "      <td>58</td>\n",
              "      <td>78</td>\n",
              "      <td>120</td>\n",
              "      <td>NaN</td>\n",
              "      <td>Stephen Norrington</td>\n",
              "    </tr>\n",
              "    <tr>\n",
              "      <th>63</th>\n",
              "      <td>Blade II</td>\n",
              "      <td>3/22/2002</td>\n",
              "      <td>March</td>\n",
              "      <td>22</td>\n",
              "      <td>2002</td>\n",
              "      <td>New Line Cinema</td>\n",
              "      <td>81676888</td>\n",
              "      <td>148030572</td>\n",
              "      <td>72661713</td>\n",
              "      <td>1.316915e+08</td>\n",
              "      <td>...</td>\n",
              "      <td>2.797221e+08</td>\n",
              "      <td>32528016</td>\n",
              "      <td>54000000</td>\n",
              "      <td>6.7</td>\n",
              "      <td>52.0</td>\n",
              "      <td>57</td>\n",
              "      <td>68</td>\n",
              "      <td>117</td>\n",
              "      <td>NaN</td>\n",
              "      <td>Guillermo del Toro</td>\n",
              "    </tr>\n",
              "    <tr>\n",
              "      <th>64</th>\n",
              "      <td>Blade: Trinity</td>\n",
              "      <td>12/8/2004</td>\n",
              "      <td>December</td>\n",
              "      <td>8</td>\n",
              "      <td>2004</td>\n",
              "      <td>New Line Cinema</td>\n",
              "      <td>52397389</td>\n",
              "      <td>88619322</td>\n",
              "      <td>78955776</td>\n",
              "      <td>1.335373e+08</td>\n",
              "      <td>...</td>\n",
              "      <td>2.221567e+08</td>\n",
              "      <td>16061271</td>\n",
              "      <td>65000000</td>\n",
              "      <td>5.8</td>\n",
              "      <td>38.0</td>\n",
              "      <td>24</td>\n",
              "      <td>58</td>\n",
              "      <td>113</td>\n",
              "      <td>NaN</td>\n",
              "      <td>David S. Goyer</td>\n",
              "    </tr>\n",
              "    <tr>\n",
              "      <th>65</th>\n",
              "      <td>Morbius</td>\n",
              "      <td>4/1/2022</td>\n",
              "      <td>April</td>\n",
              "      <td>1</td>\n",
              "      <td>2022</td>\n",
              "      <td>Sony Pictures</td>\n",
              "      <td>73865530</td>\n",
              "      <td>73865530</td>\n",
              "      <td>88893907</td>\n",
              "      <td>8.889391e+07</td>\n",
              "      <td>...</td>\n",
              "      <td>1.627594e+08</td>\n",
              "      <td>39005895</td>\n",
              "      <td>75000000</td>\n",
              "      <td>5.2</td>\n",
              "      <td>35.0</td>\n",
              "      <td>15</td>\n",
              "      <td>71</td>\n",
              "      <td>104</td>\n",
              "      <td>NaN</td>\n",
              "      <td>Daniel Espinosa</td>\n",
              "    </tr>\n",
              "  </tbody>\n",
              "</table>\n",
              "<p>66 rows × 21 columns</p>\n",
              "</div>\n",
              "    <div class=\"colab-df-buttons\">\n",
              "\n",
              "  <div class=\"colab-df-container\">\n",
              "    <button class=\"colab-df-convert\" onclick=\"convertToInteractive('df-0a781ef5-a4a7-4024-868b-05b2a376ffa9')\"\n",
              "            title=\"Convert this dataframe to an interactive table.\"\n",
              "            style=\"display:none;\">\n",
              "\n",
              "  <svg xmlns=\"http://www.w3.org/2000/svg\" height=\"24px\" viewBox=\"0 -960 960 960\">\n",
              "    <path d=\"M120-120v-720h720v720H120Zm60-500h600v-160H180v160Zm220 220h160v-160H400v160Zm0 220h160v-160H400v160ZM180-400h160v-160H180v160Zm440 0h160v-160H620v160ZM180-180h160v-160H180v160Zm440 0h160v-160H620v160Z\"/>\n",
              "  </svg>\n",
              "    </button>\n",
              "\n",
              "  <style>\n",
              "    .colab-df-container {\n",
              "      display:flex;\n",
              "      gap: 12px;\n",
              "    }\n",
              "\n",
              "    .colab-df-convert {\n",
              "      background-color: #E8F0FE;\n",
              "      border: none;\n",
              "      border-radius: 50%;\n",
              "      cursor: pointer;\n",
              "      display: none;\n",
              "      fill: #1967D2;\n",
              "      height: 32px;\n",
              "      padding: 0 0 0 0;\n",
              "      width: 32px;\n",
              "    }\n",
              "\n",
              "    .colab-df-convert:hover {\n",
              "      background-color: #E2EBFA;\n",
              "      box-shadow: 0px 1px 2px rgba(60, 64, 67, 0.3), 0px 1px 3px 1px rgba(60, 64, 67, 0.15);\n",
              "      fill: #174EA6;\n",
              "    }\n",
              "\n",
              "    .colab-df-buttons div {\n",
              "      margin-bottom: 4px;\n",
              "    }\n",
              "\n",
              "    [theme=dark] .colab-df-convert {\n",
              "      background-color: #3B4455;\n",
              "      fill: #D2E3FC;\n",
              "    }\n",
              "\n",
              "    [theme=dark] .colab-df-convert:hover {\n",
              "      background-color: #434B5C;\n",
              "      box-shadow: 0px 1px 3px 1px rgba(0, 0, 0, 0.15);\n",
              "      filter: drop-shadow(0px 1px 2px rgba(0, 0, 0, 0.3));\n",
              "      fill: #FFFFFF;\n",
              "    }\n",
              "  </style>\n",
              "\n",
              "    <script>\n",
              "      const buttonEl =\n",
              "        document.querySelector('#df-0a781ef5-a4a7-4024-868b-05b2a376ffa9 button.colab-df-convert');\n",
              "      buttonEl.style.display =\n",
              "        google.colab.kernel.accessAllowed ? 'block' : 'none';\n",
              "\n",
              "      async function convertToInteractive(key) {\n",
              "        const element = document.querySelector('#df-0a781ef5-a4a7-4024-868b-05b2a376ffa9');\n",
              "        const dataTable =\n",
              "          await google.colab.kernel.invokeFunction('convertToInteractive',\n",
              "                                                    [key], {});\n",
              "        if (!dataTable) return;\n",
              "\n",
              "        const docLinkHtml = 'Like what you see? Visit the ' +\n",
              "          '<a target=\"_blank\" href=https://colab.research.google.com/notebooks/data_table.ipynb>data table notebook</a>'\n",
              "          + ' to learn more about interactive tables.';\n",
              "        element.innerHTML = '';\n",
              "        dataTable['output_type'] = 'display_data';\n",
              "        await google.colab.output.renderOutput(dataTable, element);\n",
              "        const docLink = document.createElement('div');\n",
              "        docLink.innerHTML = docLinkHtml;\n",
              "        element.appendChild(docLink);\n",
              "      }\n",
              "    </script>\n",
              "  </div>\n",
              "\n",
              "\n",
              "<div id=\"df-1793de7b-9391-4ead-b1e1-a23776acdff0\">\n",
              "  <button class=\"colab-df-quickchart\" onclick=\"quickchart('df-1793de7b-9391-4ead-b1e1-a23776acdff0')\"\n",
              "            title=\"Suggest charts\"\n",
              "            style=\"display:none;\">\n",
              "\n",
              "<svg xmlns=\"http://www.w3.org/2000/svg\" height=\"24px\"viewBox=\"0 0 24 24\"\n",
              "     width=\"24px\">\n",
              "    <g>\n",
              "        <path d=\"M19 3H5c-1.1 0-2 .9-2 2v14c0 1.1.9 2 2 2h14c1.1 0 2-.9 2-2V5c0-1.1-.9-2-2-2zM9 17H7v-7h2v7zm4 0h-2V7h2v10zm4 0h-2v-4h2v4z\"/>\n",
              "    </g>\n",
              "</svg>\n",
              "  </button>\n",
              "\n",
              "<style>\n",
              "  .colab-df-quickchart {\n",
              "      --bg-color: #E8F0FE;\n",
              "      --fill-color: #1967D2;\n",
              "      --hover-bg-color: #E2EBFA;\n",
              "      --hover-fill-color: #174EA6;\n",
              "      --disabled-fill-color: #AAA;\n",
              "      --disabled-bg-color: #DDD;\n",
              "  }\n",
              "\n",
              "  [theme=dark] .colab-df-quickchart {\n",
              "      --bg-color: #3B4455;\n",
              "      --fill-color: #D2E3FC;\n",
              "      --hover-bg-color: #434B5C;\n",
              "      --hover-fill-color: #FFFFFF;\n",
              "      --disabled-bg-color: #3B4455;\n",
              "      --disabled-fill-color: #666;\n",
              "  }\n",
              "\n",
              "  .colab-df-quickchart {\n",
              "    background-color: var(--bg-color);\n",
              "    border: none;\n",
              "    border-radius: 50%;\n",
              "    cursor: pointer;\n",
              "    display: none;\n",
              "    fill: var(--fill-color);\n",
              "    height: 32px;\n",
              "    padding: 0;\n",
              "    width: 32px;\n",
              "  }\n",
              "\n",
              "  .colab-df-quickchart:hover {\n",
              "    background-color: var(--hover-bg-color);\n",
              "    box-shadow: 0 1px 2px rgba(60, 64, 67, 0.3), 0 1px 3px 1px rgba(60, 64, 67, 0.15);\n",
              "    fill: var(--button-hover-fill-color);\n",
              "  }\n",
              "\n",
              "  .colab-df-quickchart-complete:disabled,\n",
              "  .colab-df-quickchart-complete:disabled:hover {\n",
              "    background-color: var(--disabled-bg-color);\n",
              "    fill: var(--disabled-fill-color);\n",
              "    box-shadow: none;\n",
              "  }\n",
              "\n",
              "  .colab-df-spinner {\n",
              "    border: 2px solid var(--fill-color);\n",
              "    border-color: transparent;\n",
              "    border-bottom-color: var(--fill-color);\n",
              "    animation:\n",
              "      spin 1s steps(1) infinite;\n",
              "  }\n",
              "\n",
              "  @keyframes spin {\n",
              "    0% {\n",
              "      border-color: transparent;\n",
              "      border-bottom-color: var(--fill-color);\n",
              "      border-left-color: var(--fill-color);\n",
              "    }\n",
              "    20% {\n",
              "      border-color: transparent;\n",
              "      border-left-color: var(--fill-color);\n",
              "      border-top-color: var(--fill-color);\n",
              "    }\n",
              "    30% {\n",
              "      border-color: transparent;\n",
              "      border-left-color: var(--fill-color);\n",
              "      border-top-color: var(--fill-color);\n",
              "      border-right-color: var(--fill-color);\n",
              "    }\n",
              "    40% {\n",
              "      border-color: transparent;\n",
              "      border-right-color: var(--fill-color);\n",
              "      border-top-color: var(--fill-color);\n",
              "    }\n",
              "    60% {\n",
              "      border-color: transparent;\n",
              "      border-right-color: var(--fill-color);\n",
              "    }\n",
              "    80% {\n",
              "      border-color: transparent;\n",
              "      border-right-color: var(--fill-color);\n",
              "      border-bottom-color: var(--fill-color);\n",
              "    }\n",
              "    90% {\n",
              "      border-color: transparent;\n",
              "      border-bottom-color: var(--fill-color);\n",
              "    }\n",
              "  }\n",
              "</style>\n",
              "\n",
              "  <script>\n",
              "    async function quickchart(key) {\n",
              "      const quickchartButtonEl =\n",
              "        document.querySelector('#' + key + ' button');\n",
              "      quickchartButtonEl.disabled = true;  // To prevent multiple clicks.\n",
              "      quickchartButtonEl.classList.add('colab-df-spinner');\n",
              "      try {\n",
              "        const charts = await google.colab.kernel.invokeFunction(\n",
              "            'suggestCharts', [key], {});\n",
              "      } catch (error) {\n",
              "        console.error('Error during call to suggestCharts:', error);\n",
              "      }\n",
              "      quickchartButtonEl.classList.remove('colab-df-spinner');\n",
              "      quickchartButtonEl.classList.add('colab-df-quickchart-complete');\n",
              "    }\n",
              "    (() => {\n",
              "      let quickchartButtonEl =\n",
              "        document.querySelector('#df-1793de7b-9391-4ead-b1e1-a23776acdff0 button');\n",
              "      quickchartButtonEl.style.display =\n",
              "        google.colab.kernel.accessAllowed ? 'block' : 'none';\n",
              "    })();\n",
              "  </script>\n",
              "</div>\n",
              "\n",
              "  <div id=\"id_5bf1494c-3c0a-4b24-af2e-e2f3d9a9961d\">\n",
              "    <style>\n",
              "      .colab-df-generate {\n",
              "        background-color: #E8F0FE;\n",
              "        border: none;\n",
              "        border-radius: 50%;\n",
              "        cursor: pointer;\n",
              "        display: none;\n",
              "        fill: #1967D2;\n",
              "        height: 32px;\n",
              "        padding: 0 0 0 0;\n",
              "        width: 32px;\n",
              "      }\n",
              "\n",
              "      .colab-df-generate:hover {\n",
              "        background-color: #E2EBFA;\n",
              "        box-shadow: 0px 1px 2px rgba(60, 64, 67, 0.3), 0px 1px 3px 1px rgba(60, 64, 67, 0.15);\n",
              "        fill: #174EA6;\n",
              "      }\n",
              "\n",
              "      [theme=dark] .colab-df-generate {\n",
              "        background-color: #3B4455;\n",
              "        fill: #D2E3FC;\n",
              "      }\n",
              "\n",
              "      [theme=dark] .colab-df-generate:hover {\n",
              "        background-color: #434B5C;\n",
              "        box-shadow: 0px 1px 3px 1px rgba(0, 0, 0, 0.15);\n",
              "        filter: drop-shadow(0px 1px 2px rgba(0, 0, 0, 0.3));\n",
              "        fill: #FFFFFF;\n",
              "      }\n",
              "    </style>\n",
              "    <button class=\"colab-df-generate\" onclick=\"generateWithVariable('df')\"\n",
              "            title=\"Generate code using this dataframe.\"\n",
              "            style=\"display:none;\">\n",
              "\n",
              "  <svg xmlns=\"http://www.w3.org/2000/svg\" height=\"24px\"viewBox=\"0 0 24 24\"\n",
              "       width=\"24px\">\n",
              "    <path d=\"M7,19H8.4L18.45,9,17,7.55,7,17.6ZM5,21V16.75L18.45,3.32a2,2,0,0,1,2.83,0l1.4,1.43a1.91,1.91,0,0,1,.58,1.4,1.91,1.91,0,0,1-.58,1.4L9.25,21ZM18.45,9,17,7.55Zm-12,3A5.31,5.31,0,0,0,4.9,8.1,5.31,5.31,0,0,0,1,6.5,5.31,5.31,0,0,0,4.9,4.9,5.31,5.31,0,0,0,6.5,1,5.31,5.31,0,0,0,8.1,4.9,5.31,5.31,0,0,0,12,6.5,5.46,5.46,0,0,0,6.5,12Z\"/>\n",
              "  </svg>\n",
              "    </button>\n",
              "    <script>\n",
              "      (() => {\n",
              "      const buttonEl =\n",
              "        document.querySelector('#id_5bf1494c-3c0a-4b24-af2e-e2f3d9a9961d button.colab-df-generate');\n",
              "      buttonEl.style.display =\n",
              "        google.colab.kernel.accessAllowed ? 'block' : 'none';\n",
              "\n",
              "      buttonEl.onclick = () => {\n",
              "        google.colab.notebook.generateWithVariable('df');\n",
              "      }\n",
              "      })();\n",
              "    </script>\n",
              "  </div>\n",
              "\n",
              "    </div>\n",
              "  </div>\n"
            ],
            "application/vnd.google.colaboratory.intrinsic+json": {
              "type": "dataframe",
              "variable_name": "df"
            }
          },
          "metadata": {},
          "execution_count": 2
        }
      ]
    },
    {
      "cell_type": "code",
      "source": [
        "# @title Task 1\n",
        "#What is the average IMDb score of the movie in the dataset\n",
        "df['IMDb Score'].mean()\n"
      ],
      "metadata": {
        "colab": {
          "base_uri": "https://localhost:8080/"
        },
        "id": "QE3uquW4wAj3",
        "outputId": "7956f6f9-338d-46f1-bbe7-5f8ce972b536"
      },
      "execution_count": null,
      "outputs": [
        {
          "output_type": "execute_result",
          "data": {
            "text/plain": [
              "9.783333333333331"
            ]
          },
          "metadata": {},
          "execution_count": 3
        }
      ]
    },
    {
      "cell_type": "code",
      "source": [
        "# @title Task 2\n",
        "#How does the distribution of Meta Scores look in the dataset?\n",
        "import matplotlib.pyplot as plt\n",
        "plt.bar(df['Meta Score'],df['Budget'])"
      ],
      "metadata": {
        "colab": {
          "base_uri": "https://localhost:8080/",
          "height": 462
        },
        "id": "F0xOgRgFJ1oc",
        "outputId": "3713a336-518d-4e05-ae97-ec8e4a7d1388"
      },
      "execution_count": null,
      "outputs": [
        {
          "output_type": "execute_result",
          "data": {
            "text/plain": [
              "<BarContainer object of 66 artists>"
            ]
          },
          "metadata": {},
          "execution_count": 4
        },
        {
          "output_type": "display_data",
          "data": {
            "text/plain": [
              "<Figure size 640x480 with 1 Axes>"
            ],
            "image/png": "[encoded data removed]"
          },
          "metadata": {}
        }
      ]
    },
    {
      "cell_type": "code",
      "source": [
        "# @title Task 3\n",
        "#Which movie had the highest opening weekend box office revenue?\n",
        "df[df['Opening Weekend']==357115007]['Movie']"
      ],
      "metadata": {
        "colab": {
          "base_uri": "https://localhost:8080/"
        },
        "id": "pi8OVrlkJ1XA",
        "outputId": "887036b9-0e6e-400e-bf70-8357fa4f2bfd"
      },
      "execution_count": null,
      "outputs": [
        {
          "output_type": "execute_result",
          "data": {
            "text/plain": [
              "21    Avengers: Endgame\n",
              "Name: Movie, dtype: object"
            ]
          },
          "metadata": {},
          "execution_count": 5
        }
      ]
    },
    {
      "cell_type": "code",
      "source": [
        "# @title Task 4\n",
        "#Is there a correlation between the budget and the box office revenue?\n",
        "df['Budget'].corr(df['Domestic Box Office'])"
      ],
      "metadata": {
        "colab": {
          "base_uri": "https://localhost:8080/"
        },
        "id": "lvQPodl7wAm1",
        "outputId": "18633b9a-0a71-413e-cdfc-4ce807cddefa"
      },
      "execution_count": null,
      "outputs": [
        {
          "output_type": "execute_result",
          "data": {
            "text/plain": [
              "0.6847608698595791"
            ]
          },
          "metadata": {},
          "execution_count": 6
        }
      ]
    },
    {
      "cell_type": "code",
      "source": [
        "# @title Task 5\n",
        "# What is the most common release month for movies in the dataset?\n",
        "df['Release Month'].value_counts().index[0]"
      ],
      "metadata": {
        "colab": {
          "base_uri": "https://localhost:8080/",
          "height": 35
        },
        "id": "P37QfzDVwApu",
        "outputId": "97ab97a8-1509-4178-e03a-879225a6a35f"
      },
      "execution_count": null,
      "outputs": [
        {
          "output_type": "execute_result",
          "data": {
            "text/plain": [
              "'May'"
            ],
            "application/vnd.google.colaboratory.intrinsic+json": {
              "type": "string"
            }
          },
          "metadata": {},
          "execution_count": 7
        }
      ]
    },
    {
      "cell_type": "code",
      "source": [
        "# @title Task 6\n",
        "#How many movies were released in each phase?\n",
        "df['Phase'].value_counts()"
      ],
      "metadata": {
        "colab": {
          "base_uri": "https://localhost:8080/"
        },
        "id": "VsN_ro_4wAsY",
        "outputId": "788292ae-3d3a-4025-b7b2-8334f70963be"
      },
      "execution_count": null,
      "outputs": [
        {
          "output_type": "execute_result",
          "data": {
            "text/plain": [
              "Three    11\n",
              "Four      7\n",
              "One       6\n",
              "Two       6\n",
              "Five      3\n",
              "Name: Phase, dtype: int64"
            ]
          },
          "metadata": {},
          "execution_count": 8
        }
      ]
    },
    {
      "cell_type": "code",
      "source": [
        "# @title Task 7\n",
        "#What is the average run time of movies in the dataset?\n",
        "df['Run Time In Minutes'].mean()"
      ],
      "metadata": {
        "colab": {
          "base_uri": "https://localhost:8080/"
        },
        "id": "ITseeJ7xwAwG",
        "outputId": "48ac6618-db6b-4c80-c54b-a7caca2f9c7c"
      },
      "execution_count": null,
      "outputs": [
        {
          "output_type": "execute_result",
          "data": {
            "text/plain": [
              "124.71212121212122"
            ]
          },
          "metadata": {},
          "execution_count": 9
        }
      ]
    },
    {
      "cell_type": "code",
      "source": [
        "# @title Task 8\n",
        "#Which director has the highest average IMDb score for their movies?\n",
        "df.groupby(by=df['Director'])['IMDb Score'].mean().sort_values(ascending = False)"
      ],
      "metadata": {
        "colab": {
          "base_uri": "https://localhost:8080/"
        },
        "id": "n83QQFnBwAzi",
        "outputId": "b4da2e89-d9f5-4cdf-f8ea-1b4552c0e7d8"
      },
      "execution_count": null,
      "outputs": [
        {
          "output_type": "execute_result",
          "data": {
            "text/plain": [
              "Director\n",
              "Mark Neveldine, Brian Taylor    95.000000\n",
              "Mark Steven Johnson             57.650000\n",
              "Anthony and Joe Russo            8.075000\n",
              "Tim Miller                       8.000000\n",
              "James Gunn                       7.833333\n",
              "Matthew Vaughn                   7.700000\n",
              "Jon Watts                        7.666667\n",
              "Joss Whedon                      7.650000\n",
              "David Leitch                     7.600000\n",
              "Scott Derrickson                 7.500000\n",
              "Destin Daniel Cretton            7.400000\n",
              "Jon Favreau                      7.400000\n",
              "James Mangold                    7.400000\n",
              "Brian Singer                     7.375000\n",
              "Shane Black                      7.100000\n",
              "Stephen Norrington               7.100000\n",
              "Taika Waititi                    7.050000\n",
              "Sam Raimi                        7.025000\n",
              "Ryan Coogler                     7.000000\n",
              "Kenneth Brangh                   7.000000\n",
              "Joe Johnston                     6.900000\n",
              "Peyton Reed                      6.800000\n",
              "Alan Taylor                      6.800000\n",
              "Anna Boden & Ryan Fleck          6.800000\n",
              "Marc Webb                        6.750000\n",
              "Guillermo del Toro               6.700000\n",
              "Cate Shortland                   6.700000\n",
              "Louis Leterrier                  6.600000\n",
              "Ruben Fleischer                  6.600000\n",
              "Brett Ratner                     6.600000\n",
              "Gavin Hood                       6.500000\n",
              "Jonathan Hensleigh               6.400000\n",
              "Chloe Zhao                       6.300000\n",
              "Andy Serkis                      5.900000\n",
              "Lexi Alexander                   5.900000\n",
              "David S. Goyer                   5.800000\n",
              "Simon Kinberg                    5.700000\n",
              "Nia DaCosta                      5.700000\n",
              "Tim Story                        5.650000\n",
              "Josh Boone                       5.300000\n",
              "Daniel Espinosa                  5.200000\n",
              "Rob Bowman                       4.700000\n",
              "Josh Trank                       4.300000\n",
              "Name: IMDb Score, dtype: float64"
            ]
          },
          "metadata": {},
          "execution_count": 10
        }
      ]
    },
    {
      "cell_type": "code",
      "source": [
        "# @title Task 9\n",
        "#What is the overall trend in the inflation - adjusted worldwide box office over the year?\n",
        "plt.bar(df['Release Year'],df['Inflation Adjusted Worldwide'])"
      ],
      "metadata": {
        "colab": {
          "base_uri": "https://localhost:8080/",
          "height": 462
        },
        "id": "Lm8V1B5twA2s",
        "outputId": "2e218a66-d2bf-4e02-d9fa-3e4df82be408"
      },
      "execution_count": null,
      "outputs": [
        {
          "output_type": "execute_result",
          "data": {
            "text/plain": [
              "<BarContainer object of 66 artists>"
            ]
          },
          "metadata": {},
          "execution_count": 12
        },
        {
          "output_type": "display_data",
          "data": {
            "text/plain": [
              "<Figure size 640x480 with 1 Axes>"
            ],
            "image/png": "[encoded data removed]"
          },
          "metadata": {}
        }
      ]
    },
    {
      "cell_type": "code",
      "source": [
        "# @title Task 10\n",
        "#Do movies with higher budgets tend to have higher IMDb Scores?\n",
        "plt.scatter(df['Budget'],df['IMDb Score'])"
      ],
      "metadata": {
        "colab": {
          "base_uri": "https://localhost:8080/",
          "height": 465
        },
        "id": "-mW3bdd4wA6V",
        "outputId": "b6f89826-d123-4ea8-d9e9-652e806c0279"
      },
      "execution_count": null,
      "outputs": [
        {
          "output_type": "execute_result",
          "data": {
            "text/plain": [
              "<matplotlib.collections.PathCollection at 0x7ab546a285b0>"
            ]
          },
          "metadata": {},
          "execution_count": 13
        },
        {
          "output_type": "display_data",
          "data": {
            "text/plain": [
              "<Figure size 640x480 with 1 Axes>"
            ],
            "image/png": "[encoded data removed]"
          },
          "metadata": {}
        }
      ]
    },
    {
      "cell_type": "code",
      "source": [
        "# @title Task 11\n",
        "#What is the average Rotten Tomatoes audience score for movies in each phase?\n",
        "df.groupby(by = 'Phase')['Rotten Tomato Audience Score'].mean()"
      ],
      "metadata": {
        "colab": {
          "base_uri": "https://localhost:8080/"
        },
        "id": "9zpuTwqawA9f",
        "outputId": "c932ef0e-117c-4d0c-8977-3fcb15b5b83d"
      },
      "execution_count": null,
      "outputs": [
        {
          "output_type": "execute_result",
          "data": {
            "text/plain": [
              "Phase\n",
              "Five     86.000000\n",
              "Four     88.428571\n",
              "One      78.833333\n",
              "Three    83.363636\n",
              "Two      84.000000\n",
              "Name: Rotten Tomato Audience Score, dtype: float64"
            ]
          },
          "metadata": {},
          "execution_count": 14
        }
      ]
    },
    {
      "cell_type": "code",
      "source": [
        "# @title Task 12\n",
        "#How many movies fall under each ownership category (e.g,studio,independent)?15\n",
        "df.groupby(by ='Ownership')['Movie'].count().sort_values(ascending = False)"
      ],
      "metadata": {
        "colab": {
          "base_uri": "https://localhost:8080/"
        },
        "id": "QU4OJ4DfwBGE",
        "outputId": "7bc50730-daac-4031-bd99-99e8ef52692d"
      },
      "execution_count": null,
      "outputs": [
        {
          "output_type": "execute_result",
          "data": {
            "text/plain": [
              "Ownership\n",
              "Marvel Studios      33\n",
              "20th Century Fox    18\n",
              "Sony Pictures       10\n",
              "New Line Cinema      3\n",
              "Lionsgate Films      2\n",
              "Name: Movie, dtype: int64"
            ]
          },
          "metadata": {},
          "execution_count": 15
        }
      ]
    },
    {
      "cell_type": "code",
      "source": [
        "# @title Task 13\n",
        "#What is the average budget for movie in each ownership category?15\n",
        "df.groupby(by = 'Ownership')['Budget'].mean().sort_values(ascending = False)"
      ],
      "metadata": {
        "colab": {
          "base_uri": "https://localhost:8080/"
        },
        "id": "tQzh9K0geCHJ",
        "outputId": "537d94a2-086d-41ce-b0a2-b1c6002f8337"
      },
      "execution_count": null,
      "outputs": [
        {
          "output_type": "execute_result",
          "data": {
            "text/plain": [
              "Ownership\n",
              "Marvel Studios      2.031303e+08\n",
              "Sony Pictures       1.495000e+08\n",
              "20th Century Fox    1.248611e+08\n",
              "New Line Cinema     5.466667e+07\n",
              "Lionsgate Films     3.400000e+07\n",
              "Name: Budget, dtype: float64"
            ]
          },
          "metadata": {},
          "execution_count": 16
        }
      ]
    },
    {
      "cell_type": "code",
      "source": [
        "# @title Task 14\n",
        "#What is the average inflation-adjusted demostic box office revenue for each director ? 19\n",
        "df.groupby(by='Director')['Inflation Adjusted Domestic'].mean()"
      ],
      "metadata": {
        "colab": {
          "base_uri": "https://localhost:8080/"
        },
        "id": "GCIN6FIheCEI",
        "outputId": "1c6c387f-a68b-4883-a9a4-a44f922f1dd5"
      },
      "execution_count": null,
      "outputs": [
        {
          "output_type": "execute_result",
          "data": {
            "text/plain": [
              "Director\n",
              "Alan Taylor                     2.672624e+08\n",
              "Andy Serkis                     2.162080e+08\n",
              "Anna Boden & Ryan Fleck         4.906679e+08\n",
              "Anthony and Joe Russo           6.507335e+08\n",
              "Brett Ratner                    3.767690e+08\n",
              "Brian Singer                    2.933456e+08\n",
              "Cate Shortland                  1.859473e+08\n",
              "Chloe Zhao                      1.669289e+08\n",
              "Daniel Espinosa                 7.386553e+07\n",
              "David Leitch                    3.751862e+08\n",
              "David S. Goyer                  8.861932e+07\n",
              "Destin Daniel Cretton           2.273501e+08\n",
              "Gavin Hood                      2.525560e+08\n",
              "Guillermo del Toro              1.480306e+08\n",
              "James Gunn                      4.155390e+08\n",
              "James Mangold                   2.186588e+08\n",
              "Joe Johnston                    2.345740e+08\n",
              "Jon Favreau                     4.421024e+08\n",
              "Jon Watts                       5.541806e+08\n",
              "Jonathan Hensleigh              5.708306e+07\n",
              "Josh Boone                      2.669491e+07\n",
              "Josh Trank                      7.009701e+07\n",
              "Joss Whedon                     6.989834e+08\n",
              "Kenneth Brangh                  2.403849e+08\n",
              "Lexi Alexander                  1.180735e+07\n",
              "Louis Leterrier                 1.977043e+08\n",
              "Marc Webb                       3.040408e+08\n",
              "Mark Neveldine, Brian Taylor    6.848997e+07\n",
              "Mark Steven Johnson             1.781535e+08\n",
              "Matthew Vaughn                  1.944110e+08\n",
              "Nia DaCosta                     8.450022e+07\n",
              "Peyton Reed                     2.300059e+08\n",
              "Rob Bowman                      4.009896e+07\n",
              "Ruben Fleischer                 2.467915e+08\n",
              "Ryan Coogler                    6.315044e+08\n",
              "Sam Raimi                       5.728603e+08\n",
              "Scott Derrickson                2.830945e+08\n",
              "Shane Black                     5.297280e+08\n",
              "Simon Kinberg                   7.569412e+07\n",
              "Stephen Norrington              1.574827e+08\n",
              "Taika Waititi                   3.565194e+08\n",
              "Tim Miller                      4.419809e+08\n",
              "Tim Story                       2.280178e+08\n",
              "Name: Inflation Adjusted Domestic, dtype: float64"
            ]
          },
          "metadata": {},
          "execution_count": 17
        }
      ]
    },
    {
      "cell_type": "code",
      "source": [
        "# @title Task 15\n",
        "#Correlation between budget and worldwide box office revenue\n",
        "correlation = df['Budget'].corr(df['Worldwide Box Office'])\n",
        "print(\"Correlation between budget and worldwide box office revenue is\",correlation)"
      ],
      "metadata": {
        "colab": {
          "base_uri": "https://localhost:8080/"
        },
        "id": "U6y71HwjeB6h",
        "outputId": "4a48368f-57d9-434b-bf58-9eacccabbef9"
      },
      "execution_count": null,
      "outputs": [
        {
          "output_type": "stream",
          "name": "stdout",
          "text": [
            "Correlation between budget and worldwide box office revenue is 0.7297106701387257\n"
          ]
        }
      ]
    },
    {
      "cell_type": "code",
      "source": [
        "# @title Task 16\n",
        "#Average run time of movie for each director\n",
        "Avgruntime=df.groupby(by=df['Director'])['Run Time In Minutes'].mean().sort_values(ascending=False)\n",
        "print(\"The average run time of movies for each director is: \",Avgruntime)"
      ],
      "metadata": {
        "colab": {
          "base_uri": "https://localhost:8080/"
        },
        "id": "gMxiecKgeLrY",
        "outputId": "5c756cb8-08d8-4414-e42f-73b27ef59d0e"
      },
      "execution_count": null,
      "outputs": [
        {
          "output_type": "stream",
          "name": "stdout",
          "text": [
            "The average run time of movies for each director is:  Director\n",
            "Chloe Zhao                      156.000000\n",
            "Anthony and Joe Russo           152.250000\n",
            "Ryan Coogler                    147.500000\n",
            "Joss Whedon                     142.000000\n",
            "Marc Webb                       139.000000\n",
            "Jon Watts                       136.666667\n",
            "James Gunn                      135.666667\n",
            "Cate Shortland                  134.000000\n",
            "Destin Daniel Cretton           132.000000\n",
            "James Mangold                   131.500000\n",
            "Matthew Vaughn                  131.000000\n",
            "Mark Neveldine, Brian Taylor    131.000000\n",
            "Shane Black                     130.000000\n",
            "Brian Singer                    128.500000\n",
            "Sam Raimi                       128.250000\n",
            "Mark Steven Johnson             125.500000\n",
            "Jon Favreau                     125.000000\n",
            "Taika Waititi                   124.000000\n",
            "Jonathan Hensleigh              124.000000\n",
            "Joe Johnston                    124.000000\n",
            "Anna Boden & Ryan Fleck         123.000000\n",
            "Stephen Norrington              120.000000\n",
            "Peyton Reed                     119.666667\n",
            "David Leitch                    119.000000\n",
            "Guillermo del Toro              117.000000\n",
            "Kenneth Brangh                  115.000000\n",
            "Scott Derrickson                115.000000\n",
            "Simon Kinberg                   113.000000\n",
            "David S. Goyer                  113.000000\n",
            "Ruben Fleischer                 112.000000\n",
            "Louis Leterrier                 112.000000\n",
            "Alan Taylor                     112.000000\n",
            "Tim Miller                      108.000000\n",
            "Gavin Hood                      107.000000\n",
            "Nia DaCosta                     105.000000\n",
            "Daniel Espinosa                 104.000000\n",
            "Brett Ratner                    104.000000\n",
            "Lexi Alexander                  103.000000\n",
            "Josh Trank                      100.000000\n",
            "Tim Story                        99.000000\n",
            "Rob Bowman                       97.000000\n",
            "Andy Serkis                      97.000000\n",
            "Josh Boone                       94.000000\n",
            "Name: Run Time In Minutes, dtype: float64\n"
          ]
        }
      ]
    },
    {
      "cell_type": "code",
      "source": [
        "# @title Task 17\n",
        "#Ownership Category with the highest average IMDb score\n",
        "vall=df.groupby(by='Ownership')['IMDb Score'].mean().sort_values(ascending=False)\n",
        "print(\"The ownership category with the highest average IMDb score is:\",vall)"
      ],
      "metadata": {
        "colab": {
          "base_uri": "https://localhost:8080/"
        },
        "id": "57dLemIMeLod",
        "outputId": "cc92cfed-96fc-4cbd-d9c0-6f90dc5cc7e3"
      },
      "execution_count": null,
      "outputs": [
        {
          "output_type": "stream",
          "name": "stdout",
          "text": [
            "The ownership category with the highest average IMDb score is: Ownership\n",
            "Sony Pictures       25.740000\n",
            "Marvel Studios       7.245455\n",
            "New Line Cinema      6.533333\n",
            "20th Century Fox     6.516667\n",
            "Lionsgate Films      6.150000\n",
            "Name: IMDb Score, dtype: float64\n"
          ]
        }
      ]
    },
    {
      "cell_type": "code",
      "source": [
        "# @title Task 18\n",
        "#Most common release day\n",
        "df['Release Day'].mode()[0]"
      ],
      "metadata": {
        "colab": {
          "base_uri": "https://localhost:8080/"
        },
        "id": "B52-TKnieYDq",
        "outputId": "e1f19924-1790-4591-87c8-8c410e017274"
      },
      "execution_count": null,
      "outputs": [
        {
          "output_type": "execute_result",
          "data": {
            "text/plain": [
              "3"
            ]
          },
          "metadata": {},
          "execution_count": 21
        }
      ]
    },
    {
      "cell_type": "code",
      "source": [
        "#@title Task 19\n",
        "#Director with the highest cumutative worldwide box office revenue\n",
        "df.groupby(by='Director')['Worldwide Box Office'].sum().idxmax()"
      ],
      "metadata": {
        "colab": {
          "base_uri": "https://localhost:8080/",
          "height": 35
        },
        "id": "yWo1N_iBeX9V",
        "outputId": "363add6e-1c36-4455-95e6-06cff58da3cf"
      },
      "execution_count": null,
      "outputs": [
        {
          "output_type": "execute_result",
          "data": {
            "text/plain": [
              "'Anthony and Joe Russo'"
            ],
            "application/vnd.google.colaboratory.intrinsic+json": {
              "type": "string"
            }
          },
          "metadata": {},
          "execution_count": 22
        }
      ]
    },
    {
      "cell_type": "code",
      "source": [
        "#@title Task 20\n",
        "#Average run time of movies in each ownership category\n",
        "avgruntime=df.groupby(by='Ownership')['Run Time In Minutes'].mean().sort_values(ascending=False)\n",
        "print(\"The average run time of movies in each ownership category is:\",avgruntime)"
      ],
      "metadata": {
        "colab": {
          "base_uri": "https://localhost:8080/"
        },
        "id": "kahgY2JkeX2K",
        "outputId": "19d32f47-7120-4042-a752-06395c1c10ef"
      },
      "execution_count": null,
      "outputs": [
        {
          "output_type": "stream",
          "name": "stdout",
          "text": [
            "The average run time of movies in each ownership category is: Ownership\n",
            "Marvel Studios      131.696970\n",
            "Sony Pictures       125.700000\n",
            "New Line Cinema     116.666667\n",
            "20th Century Fox    113.944444\n",
            "Lionsgate Films     113.500000\n",
            "Name: Run Time In Minutes, dtype: float64\n"
          ]
        }
      ]
    },
    {
      "cell_type": "code",
      "source": [
        "#@title Task 21\n",
        "#Correlation between release month and IMDb score\n",
        "#df['Release Month '].corr(df['IMDb Score'])\n",
        "df.info()"
      ],
      "metadata": {
        "colab": {
          "base_uri": "https://localhost:8080/"
        },
        "id": "OOwhDCkReLiV",
        "outputId": "d8fad940-f9f5-4312-bfb6-45b67ff89178"
      },
      "execution_count": null,
      "outputs": [
        {
          "output_type": "stream",
          "name": "stdout",
          "text": [
            "<class 'pandas.core.frame.DataFrame'>\n",
            "RangeIndex: 66 entries, 0 to 65\n",
            "Data columns (total 21 columns):\n",
            " #   Column                            Non-Null Count  Dtype  \n",
            "---  ------                            --------------  -----  \n",
            " 0   Movie                             66 non-null     object \n",
            " 1   Release Date                      66 non-null     object \n",
            " 2   Release Month                     66 non-null     object \n",
            " 3   Release Day                       66 non-null     int64  \n",
            " 4   Release Year                      66 non-null     int64  \n",
            " 5   Ownership                         66 non-null     object \n",
            " 6   Domestic Box Office               66 non-null     int64  \n",
            " 7   Inflation Adjusted Domestic       66 non-null     int64  \n",
            " 8   International Box Office          66 non-null     int64  \n",
            " 9   Inflation Adjusted International  66 non-null     float64\n",
            " 10  Worldwide Box Office              66 non-null     int64  \n",
            " 11  Inflation Adjusted Worldwide      66 non-null     float64\n",
            " 12  Opening Weekend                   66 non-null     int64  \n",
            " 13  Budget                            66 non-null     int64  \n",
            " 14  IMDb Score                        66 non-null     float64\n",
            " 15  Meta Score                        66 non-null     float64\n",
            " 16  Tomatometer                       66 non-null     int64  \n",
            " 17  Rotten Tomato Audience Score      66 non-null     int64  \n",
            " 18  Run Time In Minutes               66 non-null     int64  \n",
            " 19  Phase                             33 non-null     object \n",
            " 20  Director                          66 non-null     object \n",
            "dtypes: float64(4), int64(11), object(6)\n",
            "memory usage: 11.0+ KB\n"
          ]
        }
      ]
    },
    {
      "cell_type": "code",
      "source": [
        "#@title Task 22\n",
        "#Correlation between runtime and budget\n",
        "df['Run Time In Minutes'].corr(df['Budget'])"
      ],
      "metadata": {
        "colab": {
          "base_uri": "https://localhost:8080/"
        },
        "id": "d7He6DAuesMc",
        "outputId": "b6e46cd4-07a3-4510-a6f1-ed8941d59fd9"
      },
      "execution_count": null,
      "outputs": [
        {
          "output_type": "execute_result",
          "data": {
            "text/plain": [
              "0.6479515467580399"
            ]
          },
          "metadata": {},
          "execution_count": 25
        }
      ]
    },
    {
      "cell_type": "code",
      "source": [],
      "metadata": {
        "id": "HkBTMXfhesIs"
      },
      "execution_count": null,
      "outputs": []
    },
    {
      "cell_type": "code",
      "source": [],
      "metadata": {
        "id": "APzfrsH6esBJ"
      },
      "execution_count": null,
      "outputs": []
    }
  ]
}